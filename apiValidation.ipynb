{
 "cells": [
  {
   "cell_type": "code",
   "execution_count": 1,
   "outputs": [],
   "source": [
    "import json\n",
    "import requests"
   ],
   "metadata": {
    "collapsed": false,
    "pycharm": {
     "name": "#%%\n"
    }
   }
  },
  {
   "cell_type": "code",
   "execution_count": 2,
   "outputs": [
    {
     "data": {
      "text/plain": "'[{\"book_name\":\"Devops\",\"isbn\":\"abcd\",\"aisle\":\"75\"},{\"book_name\":\"Devops\",\"isbn\":\"asdasadsdas\",\"aisle\":\"75\"},{\"book_name\":\"Devops\",\"isbn\":\"bnid34\",\"aisle\":\"86\"},{\"book_name\":\"Devops\",\"isbn\":\"bnid34\",\"aisle\":\"89\"},{\"book_name\":\"Devops\",\"isbn\":\"bnid34\",\"aisle\":\"90\"},{\"book_name\":\"Devops\",\"isbn\":\"bnid34\",\"aisle\":\"91\"},{\"book_name\":\"Devops\",\"isbn\":\"bnid34\",\"aisle\":\"92\"},{\"book_name\":\"Devops\",\"isbn\":\"bnid34\",\"aisle\":\"93\"},{\"book_name\":\"Devops\",\"isbn\":\"bnid34\",\"aisle\":\"102\"},{\"book_name\":\"Devops\",\"isbn\":\"bnid34\",\"aisle\":\"112\"},{\"book_name\":\"Devops\",\"isbn\":\"bnid34\",\"aisle\":\"113\"},{\"book_name\":\"Devops\",\"isbn\":\"bnid34\",\"aisle\":\"114\"},{\"book_name\":\"Devops\",\"isbn\":\"bnid34\",\"aisle\":\"116\"},{\"book_name\":\"Devops\",\"isbn\":\"bnid34\",\"aisle\":\"118\"},{\"book_name\":\"Devops\",\"isbn\":\"bnid34\",\"aisle\":\"119\"},{\"book_name\":\"Devops\",\"isbn\":\"bnid34\",\"aisle\":\"120\"},{\"book_name\":\"Devops\",\"isbn\":\"bnid34\",\"aisle\":\"121\"},{\"book_name\":\"Devops\",\"isbn\":\"bnid34\",\"aisle\":\"123\"},{\"book_name\":\"Devops\",\"isbn\":\"bnid34\",\"aisle\":\"125\"},{\"book_name\":\"Devops\",\"isbn\":\"bnid34\",\"aisle\":\"126\"},{\"book_name\":\"Devops\",\"isbn\":\"bnid34\",\"aisle\":\"128\"},{\"book_name\":\"Devops\",\"isbn\":\"bnid34\",\"aisle\":\"129\"},{\"book_name\":\"Devops\",\"isbn\":\"Seyn\",\"aisle\":\"75\"},{\"book_name\":\"Devops\",\"isbn\":\"bnid34\",\"aisle\":\"131\"},{\"book_name\":\"Devops\",\"isbn\":\"bnid34\",\"aisle\":\"134\"},{\"book_name\":\"Devops\",\"isbn\":\"bnid34\",\"aisle\":\"135\"},{\"book_name\":\"Devops\",\"isbn\":\"bnid34\",\"aisle\":\"137\"},{\"book_name\":\"Devops\",\"isbn\":\"bnid34\",\"aisle\":\"138\"},{\"book_name\":\"Devops\",\"isbn\":\"bnid34\",\"aisle\":\"141\"},{\"book_name\":\"Learn Appium Automation with Java\",\"isbn\":\"RGHCC\",\"aisle\":\"22755\"},{\"book_name\":\"Learn Appium Automation with Java\",\"isbn\":\"RGHCC\",\"aisle\":\"99755\"},{\"book_name\":\"Learn Appium Automation with Java\",\"isbn\":\"RGHCC\",\"aisle\":\"997555\"},{\"book_name\":\"Learn Appium Automation with Java\",\"isbn\":\"RGHCC\",\"aisle\":\"997005\"},{\"book_name\":\"Learn Appium Automation with Java\",\"isbn\":\"RGHCC\",\"aisle\":\"997055\"},{\"book_name\":\"Devops\",\"isbn\":\"bnid34asgd\",\"aisle\":\"75\"},{\"book_name\":\"Devops\",\"isbn\":\"USA\",\"aisle\":\"75\"},{\"book_name\":\"Learn Appium Automation with Java\",\"isbn\":\"bcz888eded\",\"aisle\":\"20027\"},{\"book_name\":\"learn Appium Automation with Java\",\"isbn\":\"bcz88effed\",\"aisle\":\"20027\"},{\"book_name\":\"learn Appium Automation with Java\",\"isbn\":\"bcz88effed\",\"aisle\":\"2027\"},{\"book_name\":\"learn Appium Automation with Java\",\"isbn\":\"bcz88effed\",\"aisle\":\"333\"},{\"book_name\":\"learn Appium Automation with Java\",\"isbn\":\"bcz88effed\",\"aisle\":\"13435\"},{\"book_name\":\"learn Appium Automation with Java\",\"isbn\":\"bcz88effed\",\"aisle\":\"139435\"},{\"book_name\":\"learn Appium Automation with Java\",\"isbn\":\"bcz88effed\",\"aisle\":\"987\"},{\"book_name\":\"DevopsAgile\",\"isbn\":\"babuid221069\",\"aisle\":\"756\"},{\"book_name\":\"Devops\",\"isbn\":\"bnid341\",\"aisle\":\"75\"},{\"book_name\":\"Devops\",\"isbn\":\"1259789\",\"aisle\":\"75\"},{\"book_name\":\"Devops\",\"isbn\":\"bnid34\",\"aisle\":\"95\"},{\"book_name\":\"Devops\",\"isbn\":\"bnid34\",\"aisle\":\"195\"},{\"book_name\":\"Devops\",\"isbn\":\"bnid34\",\"aisle\":\"295\"},{\"book_name\":\"Devops\",\"isbn\":\"bnid34\",\"aisle\":\"395\"},{\"book_name\":\"Devops\",\"isbn\":\"bnid34\",\"aisle\":\"495\"},{\"book_name\":\"Devops\",\"isbn\":\"bnid34\",\"aisle\":\"55\"},{\"book_name\":\"Devops\",\"isbn\":\"bnid34\",\"aisle\":\"855\"},{\"book_name\":\"Devops\",\"isbn\":\"bnid34\",\"aisle\":\"955\"},{\"book_name\":\"Devops\",\"isbn\":\"hjdfhjd\",\"aisle\":\"75\"},{\"book_name\":\"Devops\",\"isbn\":\"gadha\",\"aisle\":\"75\"},{\"book_name\":\"Devops\",\"isbn\":\"gadha123\",\"aisle\":\"75\"},{\"book_name\":\"Devops\",\"isbn\":\"bnid344W6\",\"aisle\":\"75\"},{\"book_name\":\"Devops\",\"isbn\":\"bnid340\",\"aisle\":\"750\"},{\"book_name\":\"Python\",\"isbn\":\"23413\",\"aisle\":\"75\"},{\"book_name\":\"Devops\",\"isbn\":\"U55S\",\"aisle\":\"75\"},{\"book_name\":\"Devops\",\"isbn\":\"1233\",\"aisle\":\"75\"},{\"book_name\":\"Devops\",\"isbn\":\"12\",\"aisle\":\"75\"},{\"book_name\":\"Devops\",\"isbn\":\"rt12\",\"aisle\":\"75\"},{\"book_name\":\"Devops\",\"isbn\":\"U66S\",\"aisle\":\"75\"},{\"book_name\":\"Python\",\"isbn\":\"341237\",\"aisle\":\"75\"},{\"book_name\":\"Python\",\"isbn\":\"0\",\"aisle\":\"75\"},{\"book_name\":\"Devops\",\"isbn\":\"bnid34\",\"aisle\":\"75\"}]'"
     },
     "execution_count": 2,
     "metadata": {},
     "output_type": "execute_result"
    }
   ],
   "source": [
    "response = requests.get('http://216.10.245.166/Library/GetBook.php',\n",
    "             params = {'AuthorName' : 'Rahul Shetty2'},)\n",
    "\n",
    "response.text"
   ],
   "metadata": {
    "collapsed": false,
    "pycharm": {
     "name": "#%%\n"
    }
   }
  },
  {
   "cell_type": "code",
   "execution_count": 3,
   "outputs": [
    {
     "data": {
      "text/plain": "True"
     },
     "execution_count": 3,
     "metadata": {},
     "output_type": "execute_result"
    }
   ],
   "source": [
    "#check if the load was done correctlty\n",
    "response.status_code == 200"
   ],
   "metadata": {
    "collapsed": false,
    "pycharm": {
     "name": "#%%\n"
    }
   }
  },
  {
   "cell_type": "code",
   "execution_count": 4,
   "outputs": [
    {
     "data": {
      "text/plain": "str"
     },
     "execution_count": 4,
     "metadata": {},
     "output_type": "execute_result"
    }
   ],
   "source": [
    "type(response.text)"
   ],
   "metadata": {
    "collapsed": false,
    "pycharm": {
     "name": "#%%\n"
    }
   }
  },
  {
   "cell_type": "code",
   "execution_count": 5,
   "outputs": [
    {
     "name": "stdout",
     "output_type": "stream",
     "text": [
      "{\"book_name\":\"Devops\",\"isbn\":\"abcd\",\"aisle\":\"75\"}\n"
     ]
    }
   ],
   "source": [
    "string_response = response.text[1:50]\n",
    "print(string_response)"
   ],
   "metadata": {
    "collapsed": false,
    "pycharm": {
     "name": "#%%\n"
    }
   }
  },
  {
   "cell_type": "code",
   "execution_count": 6,
   "outputs": [
    {
     "data": {
      "text/plain": "str"
     },
     "execution_count": 6,
     "metadata": {},
     "output_type": "execute_result"
    }
   ],
   "source": [
    "type(string_response)"
   ],
   "metadata": {
    "collapsed": false,
    "pycharm": {
     "name": "#%%\n"
    }
   }
  },
  {
   "cell_type": "code",
   "execution_count": 26,
   "outputs": [
    {
     "data": {
      "text/plain": "{'book_name': 'Devops', 'isbn': 'abcd', 'aisle': '75'}"
     },
     "execution_count": 26,
     "metadata": {},
     "output_type": "execute_result"
    }
   ],
   "source": [
    "#when you have a string in json format you can convert it in a dict\n",
    "dict_response = json.loads(string_response)\n",
    "dict_response"
   ],
   "metadata": {
    "collapsed": false,
    "pycharm": {
     "name": "#%%\n"
    }
   }
  },
  {
   "cell_type": "code",
   "execution_count": 27,
   "outputs": [
    {
     "data": {
      "text/plain": "dict"
     },
     "execution_count": 27,
     "metadata": {},
     "output_type": "execute_result"
    }
   ],
   "source": [
    "type(dict_response)"
   ],
   "metadata": {
    "collapsed": false,
    "pycharm": {
     "name": "#%%\n"
    }
   }
  },
  {
   "cell_type": "code",
   "execution_count": 32,
   "outputs": [
    {
     "data": {
      "text/plain": "{'Date': 'Sun, 29 May 2022 06:17:34 GMT', 'Server': 'Apache', 'Access-Control-Allow-Origin': '*', 'Access-Control-Allow-Methods': 'POST', 'Access-Control-Max-Age': '3600', 'Access-Control-Allow-Headers': 'Content-Type, Access-Control-Allow-Headers, Authorization, X-Requested-With', 'Keep-Alive': 'timeout=5, max=100', 'Connection': 'Keep-Alive', 'Transfer-Encoding': 'chunked', 'Content-Type': 'application/json;charset=UTF-8'}"
     },
     "execution_count": 32,
     "metadata": {},
     "output_type": "execute_result"
    }
   ],
   "source": [
    "response.headers"
   ],
   "metadata": {
    "collapsed": false,
    "pycharm": {
     "name": "#%%\n"
    }
   }
  },
  {
   "cell_type": "code",
   "execution_count": 33,
   "outputs": [
    {
     "data": {
      "text/plain": "True"
     },
     "execution_count": 33,
     "metadata": {},
     "output_type": "execute_result"
    }
   ],
   "source": [
    "#check the name of Content Type\n",
    "response.headers['Content-Type'] == 'application/json;charset=UTF-8'"
   ],
   "metadata": {
    "collapsed": false,
    "pycharm": {
     "name": "#%%\n"
    }
   }
  },
  {
   "cell_type": "markdown",
   "source": [
    "## Retrieve book details having ISBN = RGHCC"
   ],
   "metadata": {
    "collapsed": false,
    "pycharm": {
     "name": "#%% md\n"
    }
   }
  },
  {
   "cell_type": "code",
   "execution_count": 34,
   "outputs": [],
   "source": [
    "json_response = response.json()"
   ],
   "metadata": {
    "collapsed": false,
    "pycharm": {
     "name": "#%%\n"
    }
   }
  },
  {
   "cell_type": "code",
   "execution_count": 41,
   "outputs": [
    {
     "name": "stdout",
     "output_type": "stream",
     "text": [
      "{'book_name': 'Learn Appium Automation with Java', 'isbn': 'RGHCC', 'aisle': '22755'}\n"
     ]
    }
   ],
   "source": [
    "for actualBook in json_response:\n",
    "    if actualBook['isbn'] == 'RGHCC':\n",
    "        print(actualBook)\n",
    "        break"
   ],
   "metadata": {
    "collapsed": false,
    "pycharm": {
     "name": "#%%\n"
    }
   }
  },
  {
   "cell_type": "code",
   "execution_count": 42,
   "outputs": [],
   "source": [
    "expected_book = {'book_name': 'Learn Appium Automation with Java',\n",
    "                 'isbn': 'RGHCC',\n",
    "                 'aisle': '22755'}"
   ],
   "metadata": {
    "collapsed": false,
    "pycharm": {
     "name": "#%%\n"
    }
   }
  },
  {
   "cell_type": "code",
   "execution_count": 43,
   "outputs": [
    {
     "data": {
      "text/plain": "True"
     },
     "execution_count": 43,
     "metadata": {},
     "output_type": "execute_result"
    }
   ],
   "source": [
    "actualBook == expected_book"
   ],
   "metadata": {
    "collapsed": false,
    "pycharm": {
     "name": "#%%\n"
    }
   }
  },
  {
   "cell_type": "code",
   "execution_count": null,
   "outputs": [],
   "source": [],
   "metadata": {
    "collapsed": false,
    "pycharm": {
     "name": "#%%\n"
    }
   }
  }
 ],
 "metadata": {
  "kernelspec": {
   "display_name": "Python 3",
   "language": "python",
   "name": "python3"
  },
  "language_info": {
   "codemirror_mode": {
    "name": "ipython",
    "version": 2
   },
   "file_extension": ".py",
   "mimetype": "text/x-python",
   "name": "python",
   "nbconvert_exporter": "python",
   "pygments_lexer": "ipython2",
   "version": "2.7.6"
  }
 },
 "nbformat": 4,
 "nbformat_minor": 0
}